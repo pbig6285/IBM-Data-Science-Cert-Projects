{
  "metadata": {
    "kernelspec": {
      "name": "python",
      "display_name": "Python (Pyodide)",
      "language": "python"
    },
    "language_info": {
      "codemirror_mode": {
        "name": "python",
        "version": 3
      },
      "file_extension": ".py",
      "mimetype": "text/x-python",
      "name": "python",
      "nbconvert_exporter": "python",
      "pygments_lexer": "ipython3",
      "version": "3.8"
    }
  },
  "nbformat_minor": 4,
  "nbformat": 4,
  "cells": [
    {
      "cell_type": "markdown",
      "source": "# Data Science Project",
      "metadata": {}
    },
    {
      "cell_type": "markdown",
      "source": "\n## Introduction\nThis notebook serves as a final project that demonstrates basic markdown and code cells for data science.",
      "metadata": {}
    },
    {
      "cell_type": "markdown",
      "source": "\n## Data Science Languages\n- Python\n- R\n- SQL\n- Julia\n\n",
      "metadata": {}
    },
    {
      "cell_type": "markdown",
      "source": "## Data Science Libraries\n- NumPy\n- Pandas\n- Matplotlib\n- SciPy",
      "metadata": {}
    },
    {
      "cell_type": "markdown",
      "source": "## Data Science Tools\n\n| Tool Name         | Purpose                     |\n|-------------------|-----------------------------|\n| Jupyter Notebook  | Interactive coding platform |\n| Anaconda          | Package manager and environment |\n| GitHub            | Version control system      |\n| Power BI          | Data visualization tool     |",
      "metadata": {}
    },
    {
      "cell_type": "markdown",
      "source": "## Arithmetic Expression Examples\nHere are a few basic arithmetic examples:\n- Addition: `2 + 3 = 5`\n- Multiplication: `4 * 7 = 28`",
      "metadata": {}
    },
    {
      "cell_type": "code",
      "source": "```python\n# Multiplying and adding numbers\na = 5\nb = 10\nresult = a * b + b\nresult",
      "metadata": {
        "trusted": true
      },
      "outputs": [],
      "execution_count": null
    },
    {
      "cell_type": "code",
      "source": "# Converting minutes to hours\nminutes = 120\nhours = minutes / 60\nhours",
      "metadata": {
        "trusted": true
      },
      "outputs": [],
      "execution_count": null
    },
    {
      "cell_type": "markdown",
      "source": "## Objectives\n- Demonstrate proficiency in using markdown cells.\n- Create code cells for basic arithmetic.\n- List various data science tools and libraries.\n- Share the notebook on GitHub.",
      "metadata": {}
    },
    {
      "cell_type": "markdown",
      "source": "## Author\n\nPeter Bigica",
      "metadata": {}
    }
  ]
}